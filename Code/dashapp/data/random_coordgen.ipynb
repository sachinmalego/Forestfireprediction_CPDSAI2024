{
 "cells": [
  {
   "cell_type": "code",
   "execution_count": 8,
   "metadata": {},
   "outputs": [
    {
     "data": {
      "text/plain": [
       "'Montesinho_Random_Coordinates.csv'"
      ]
     },
     "execution_count": 8,
     "metadata": {},
     "output_type": "execute_result"
    }
   ],
   "source": [
    "import random\n",
    "import pandas as pd\n",
    "\n",
    "# Define the bounding box for Montesinho Natural Park\n",
    "latitude_range = (36.761488, 36.7701677)\n",
    "longitude_range = (5.0478201, 5.0744427)\n",
    "\n",
    "# Generate 1034 random coordinates within the bounding box\n",
    "random_coordinates = [\n",
    "    {\n",
    "        \"Latitude\": random.uniform(*latitude_range),\n",
    "        \"Longitude\": random.uniform(*longitude_range)\n",
    "    }\n",
    "    for _ in range(122)\n",
    "]\n",
    "\n",
    "# Convert the list of dictionaries to a DataFrame for better visualization and export\n",
    "coordinates_df = pd.DataFrame(random_coordinates)\n",
    "\n",
    "# Save the coordinates to a CSV file\n",
    "output_file_path = \"Montesinho_Random_Coordinates.csv\"\n",
    "coordinates_df.to_csv(output_file_path, index=False)\n",
    "output_file_path"
   ]
  }
 ],
 "metadata": {
  "kernelspec": {
   "display_name": "base",
   "language": "python",
   "name": "python3"
  },
  "language_info": {
   "codemirror_mode": {
    "name": "ipython",
    "version": 3
   },
   "file_extension": ".py",
   "mimetype": "text/x-python",
   "name": "python",
   "nbconvert_exporter": "python",
   "pygments_lexer": "ipython3",
   "version": "3.12.7"
  }
 },
 "nbformat": 4,
 "nbformat_minor": 2
}
